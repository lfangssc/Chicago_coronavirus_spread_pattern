{
 "cells": [
  {
   "cell_type": "code",
   "execution_count": 1,
   "metadata": {},
   "outputs": [],
   "source": [
    "import gmaps\n",
    "import numpy as np \n",
    "import pandas as pd\n",
    "gmaps.configure(api_key='')## your googlemap api key"
   ]
  },
  {
   "cell_type": "code",
   "execution_count": 2,
   "metadata": {},
   "outputs": [],
   "source": [
    "df_cases=pd.read_csv('./Chicago_coronavrius_geo_info.csv')"
   ]
  },
  {
   "cell_type": "code",
   "execution_count": 5,
   "metadata": {},
   "outputs": [],
   "source": [
    "### add a samll random numbers on latitude and longitude to avoid data overlap on the map.\n",
    "import random\n",
    "df_cases['Latitude_addsmall']=df_cases.apply(lambda x: x['Latitude']+(random.randint(1,50))/10000 if x['counts']>1 else x['Latitude'], axis=1)\n",
    "df_cases['Longitude_addsmall']=df_cases.apply(lambda x: x['Longitude']+(random.randint(1,50))/10000 if x['counts']>1 else x['Longitude'], axis=1)"
   ]
  },
  {
   "cell_type": "code",
   "execution_count": 6,
   "metadata": {},
   "outputs": [],
   "source": [
    "df_community=df_cases[df_cases['histroy_result']=='community']\n",
    "df_travel=df_cases[df_cases['histroy_result']=='travel']\n",
    "geo_community, geo_travel = df_community[['Latitude_addsmall','Longitude_addsmall']], df_travel[['Latitude_addsmall','Longitude_addsmall']]"
   ]
  },
  {
   "cell_type": "code",
   "execution_count": 7,
   "metadata": {},
   "outputs": [],
   "source": [
    "df_community_50days=df_cases[(df_cases['histroy_result']=='community')&(df_cases['data_annouced_unix_daydiff']<=50)]\n",
    "df_travel_50days=df_cases[(df_cases['histroy_result']=='travel')&(df_cases['data_annouced_unix_daydiff']<=50)]\n",
    "geo_community_50days, geo_travel_50days = df_community_50days[['Latitude_addsmall','Longitude_addsmall']], df_travel_50days[['Latitude_addsmall','Longitude_addsmall']]"
   ]
  },
  {
   "cell_type": "code",
   "execution_count": 8,
   "metadata": {},
   "outputs": [
    {
     "data": {
      "application/vnd.jupyter.widget-view+json": {
       "model_id": "8bd8bc194e414c88a0353149cd521928",
       "version_major": 2,
       "version_minor": 0
      },
      "text/plain": [
       "Figure(layout=FigureLayout(height='420px'))"
      ]
     },
     "metadata": {},
     "output_type": "display_data"
    }
   ],
   "source": [
    "### build maps to load community and travel data on the same page\n",
    "community_layer_50days = gmaps.symbol_layer(\n",
    "    geo_community_50days, fill_color='red',\n",
    "    stroke_color='red', scale=5\n",
    ")\n",
    "\n",
    "travel_layer_50days = gmaps.symbol_layer(\n",
    "    geo_travel_50days, fill_color='green',\n",
    "    stroke_color='green', scale=7\n",
    ")\n",
    "\n",
    "fig = gmaps.figure()\n",
    "fig.add_layer(community_layer_50days)\n",
    "fig.add_layer(travel_layer_50days)\n",
    "fig"
   ]
  },
  {
   "cell_type": "code",
   "execution_count": 9,
   "metadata": {},
   "outputs": [
    {
     "data": {
      "application/vnd.jupyter.widget-view+json": {
       "model_id": "d78932542a0e4641bee8a0240daa563e",
       "version_major": 2,
       "version_minor": 0
      },
      "text/plain": [
       "Figure(layout=FigureLayout(height='420px'))"
      ]
     },
     "metadata": {},
     "output_type": "display_data"
    }
   ],
   "source": [
    "### use direction functions to show major metros on the map\n",
    "# Latitude-longitude pairs\n",
    "Waukegan = (42.3636, -87.8448)\n",
    "Evanston = (42.0451, -87.6877)\n",
    "Chicago = (41.8787, -87.6403)\n",
    "St_Louis = (38.6270, -90.1994)\n",
    "Bloomington = (39.1653, -86.5264)\n",
    "Fox_lake=(42.3967, -88.1837)\n",
    "Aurora=(41.7580, -88.2948)\n",
    "Calumet=(41.6602, -87.5643)\n",
    "Woodstock=(42.3147,-88.4487)\n",
    "\n",
    "fig = gmaps.figure()\n",
    "Chicago2Waukegan = gmaps.directions_layer(Waukegan, Chicago, travel_mode='TRANSIT', show_markers=False)\n",
    "Chicago2Fox_lake = gmaps.directions_layer(Fox_lake, Chicago, travel_mode='TRANSIT', show_markers=False)\n",
    "Chicago2Aurora = gmaps.directions_layer(Aurora, Chicago,travel_mode='TRANSIT', show_markers=False)\n",
    "Chicago2Calumet = gmaps.directions_layer(Calumet, Chicago,travel_mode='TRANSIT', show_markers=False)\n",
    "Chicago2Woodstock = gmaps.directions_layer(Woodstock, Chicago,travel_mode='TRANSIT', show_markers=False)\n",
    "\n",
    "fig.add_layer(Chicago2Waukegan)\n",
    "fig.add_layer(Chicago2Fox_lake)\n",
    "fig.add_layer(Chicago2Aurora)\n",
    "fig.add_layer(Chicago2Calumet)\n",
    "fig.add_layer(Chicago2Woodstock)\n",
    "fig"
   ]
  },
  {
   "cell_type": "code",
   "execution_count": 11,
   "metadata": {},
   "outputs": [
    {
     "data": {
      "application/vnd.jupyter.widget-view+json": {
       "model_id": "e847b31f7a914a0b9b97a3fa46269db4",
       "version_major": 2,
       "version_minor": 0
      },
      "text/plain": [
       "Figure(layout=FigureLayout(height='420px'))"
      ]
     },
     "metadata": {},
     "output_type": "display_data"
    }
   ],
   "source": [
    "Chicago2St_Louis = gmaps.directions_layer(Chicago, St_Louis, show_markers=False)\n",
    "\n",
    "fig = gmaps.figure(map_type='TERRAIN')\n",
    "fig.add_layer(community_layer_50days)\n",
    "fig.add_layer(travel_layer_50days)\n",
    "fig.add_layer(Chicago2Waukegan)\n",
    "fig.add_layer(Chicago2Fox_lake)\n",
    "fig.add_layer(Chicago2St_Louis)\n",
    "fig.add_layer(Chicago2Aurora)\n",
    "fig"
   ]
  },
  {
   "cell_type": "code",
   "execution_count": null,
   "metadata": {},
   "outputs": [],
   "source": []
  }
 ],
 "metadata": {
  "kernelspec": {
   "display_name": "Python 3",
   "language": "python",
   "name": "python3"
  },
  "language_info": {
   "codemirror_mode": {
    "name": "ipython",
    "version": 3
   },
   "file_extension": ".py",
   "mimetype": "text/x-python",
   "name": "python",
   "nbconvert_exporter": "python",
   "pygments_lexer": "ipython3",
   "version": "3.7.3"
  }
 },
 "nbformat": 4,
 "nbformat_minor": 2
}
